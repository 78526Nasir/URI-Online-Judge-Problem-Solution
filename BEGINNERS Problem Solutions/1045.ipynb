{
 "cells": [
  {
   "cell_type": "code",
   "execution_count": 8,
   "metadata": {},
   "outputs": [
    {
     "name": "stdout",
     "output_type": "stream",
     "text": [
      "6 6 6\n",
      "TRIANGULO ACUTANGULO\n",
      "TRIANGULO EQUILATERO\n"
     ]
    }
   ],
   "source": [
    "x, y, z = input().split(\" \")\n",
    "\n",
    "x = float(x)\n",
    "y = float(y)\n",
    "z = float(z)\n",
    "\n",
    "arr = [x,y,z]\n",
    "arr.sort(reverse=True)\n",
    "\n",
    "x = arr[0]\n",
    "y = arr[1]\n",
    "z = arr[2]\n",
    "\n",
    "\n",
    "if(x>=y+z):\n",
    "    print(\"NAO FORMA TRIANGULO\")\n",
    "else:\n",
    "    if((x*x) == ((y*y) + (z*z))):\n",
    "        print(\"TRIANGULO RETANGULO\")\n",
    "    if((x*x) > ((y*y) + (z*z))):\n",
    "        print(\"TRIANGULO OBTUSANGULO\")\n",
    "    if((x*x) < ((y*y) + (z*z))):\n",
    "        print(\"TRIANGULO ACUTANGULO\")\n",
    "    if(x==y and y==z and z==x):\n",
    "        print(\"TRIANGULO EQUILATERO\")\n",
    "    if((x==y and (x!=z or y!=z)) or ((y==z) and (y!=x or z!=x)) or ((z==x) and (z!=y or x!=y))):\n",
    "        print(\"TRIANGULO ISOSCELES\")"
   ]
  },
  {
   "cell_type": "code",
   "execution_count": 20,
   "metadata": {},
   "outputs": [
    {
     "name": "stdout",
     "output_type": "stream",
     "text": [
      "18.0\n"
     ]
    }
   ],
   "source": [
    "print(z)\n"
   ]
  },
  {
   "cell_type": "code",
   "execution_count": null,
   "metadata": {},
   "outputs": [],
   "source": []
  }
 ],
 "metadata": {
  "kernelspec": {
   "display_name": "Python 3",
   "language": "python",
   "name": "python3"
  },
  "language_info": {
   "codemirror_mode": {
    "name": "ipython",
    "version": 3
   },
   "file_extension": ".py",
   "mimetype": "text/x-python",
   "name": "python",
   "nbconvert_exporter": "python",
   "pygments_lexer": "ipython3",
   "version": "3.6.4"
  }
 },
 "nbformat": 4,
 "nbformat_minor": 2
}
